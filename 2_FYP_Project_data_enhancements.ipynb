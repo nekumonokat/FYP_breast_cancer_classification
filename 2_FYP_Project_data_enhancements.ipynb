{
 "cells": [
  {
   "cell_type": "markdown",
   "id": "1dfc16d2",
   "metadata": {},
   "source": [
    "## Data enhancement"
   ]
  },
  {
   "cell_type": "code",
   "execution_count": 1,
   "id": "39a230bf",
   "metadata": {},
   "outputs": [],
   "source": [
    "import pandas as pd\n",
    "import numpy as np\n",
    "import cv2\n",
    "from sklearn.model_selection import train_test_split\n",
    "import matplotlib.pyplot as plt\n",
    "\n",
    "import tensorflow as tf\n",
    "import tensorflow.keras as keras\n",
    "from tensorflow.keras.preprocessing.image import ImageDataGenerator\n",
    "from tensorflow.keras.models import Sequential\n",
    "from tensorflow.keras.layers import Conv2D, MaxPooling2D, Flatten, Dense, Dropout\n",
    "from sklearn.preprocessing import LabelEncoder\n",
    "\n",
    "from scikeras.wrappers import KerasClassifier\n",
    "from sklearn.model_selection import GridSearchCV, RandomizedSearchCV"
   ]
  },
  {
   "cell_type": "markdown",
   "id": "4155a0e9",
   "metadata": {},
   "source": [
    "### Pre-processing images in data\n",
    "** note that only training data will undergo enhancement"
   ]
  },
  {
   "cell_type": "markdown",
   "id": "4ea91a27",
   "metadata": {},
   "source": [
    "#### Image enhancement\n",
    "The process of improving the appearance of images to highlight specific features, reduce noise or improve the quality of the image, this helps it to be more suitable for analysis.\n",
    "\n",
    "Alpha focuses on the contrast of image\n",
    "- alpha greater than 1: images brighter, enhanced contrast\n",
    "- alpha less than 1: images darker, reduced contrast\n",
    "\n",
    "Beta focuses on brightness of image\n",
    "- beta positive: makes images brighter\n",
    "- beta negative: makes images darker"
   ]
  },
  {
   "cell_type": "code",
   "execution_count": 2,
   "id": "becbd6bc",
   "metadata": {},
   "outputs": [],
   "source": [
    "train_data = pd.read_csv(\"datasets/csv/train_data.csv\")\n",
    "test_data = pd.read_csv(\"datasets/csv/test_data.csv\")\n",
    "\n",
    "## PREPROCESSING IMAGES WITH ENHANCEMENT\n",
    "def preprocess_image(img_path, enhance):\n",
    "    # reading images\n",
    "    img = cv2.imread(img_path, cv2.IMREAD_GRAYSCALE)\n",
    "    if enhance == True:\n",
    "        # enhancing image\n",
    "        img = cv2.convertScaleAbs(img, alpha = 1.5, beta = -20)\n",
    "    # target_size of 224, 224 commonly used for image classification\n",
    "    img = cv2.resize(img, (224, 224))\n",
    "    # normalising pixel values\n",
    "    img_array = img.astype(np.float32) / 255\n",
    "    return img_array"
   ]
  },
  {
   "cell_type": "code",
   "execution_count": 3,
   "id": "4661e95a",
   "metadata": {},
   "outputs": [],
   "source": [
    "# using preprocessed images as train data\n",
    "train_images = np.array([preprocess_image(image_path, True) for image_path in train_data[\"image_path\"]])\n",
    "# using \"pathology\" column as train labels\n",
    "train_labels = np.array(train_data[\"pathology\"])\n",
    "\n",
    "# change \"BENIGN_WITHOUT_CALLBACK\" to \"BENIGN\"\n",
    "train_labels[train_labels == \"BENIGN_WITHOUT_CALLBACK\"] = \"BENIGN\""
   ]
  },
  {
   "cell_type": "code",
   "execution_count": 4,
   "id": "ac431677",
   "metadata": {},
   "outputs": [],
   "source": [
    "# using preprocessed images as test data\n",
    "test_images = np.array([preprocess_image(image_path, False) for image_path in test_data[\"image_path\"]])\n",
    "# using \"pathology\" column as test labels\n",
    "test_labels = np.array(test_data[\"pathology\"])\n",
    "\n",
    "# change \"BENIGN_WITHOUT_CALLBACK\" to \"BENIGN\"\n",
    "test_labels[test_labels == \"BENIGN_WITHOUT_CALLBACK\"] = \"BENIGN\""
   ]
  },
  {
   "cell_type": "markdown",
   "id": "95eaa479",
   "metadata": {},
   "source": [
    "Previously, no validation set was being used. ```train_test_split``` will be used to create a validation set, the train, validate and test set will be a 80-10-10 split for this project"
   ]
  },
  {
   "cell_type": "code",
   "execution_count": 5,
   "id": "f9779cdc",
   "metadata": {},
   "outputs": [],
   "source": [
    "val_images, test_images, val_labels, test_labels = train_test_split(test_images, test_labels, test_size = 0.5, random_state = 28)"
   ]
  },
  {
   "cell_type": "markdown",
   "id": "9e925d57",
   "metadata": {},
   "source": [
    "#### Image augmentation\n",
    "The augmented image stores the following:\n",
    "- original image without enhancement\n",
    "- enhanced image with enhancement\n",
    "- all combinations of augmented flips (with enhancement)\n",
    "- all combinations of augmented flips (without enhancement)"
   ]
  },
  {
   "cell_type": "code",
   "execution_count": 6,
   "id": "13c318cd",
   "metadata": {},
   "outputs": [],
   "source": [
    "## IMAGE AUGMENTATION - using numpy\n",
    "augmented_images = []\n",
    "augmented_labels = []\n",
    "\n",
    "# augmenting images and storing in lists\n",
    "for i, img_path in enumerate(train_data[\"image_path\"]):\n",
    "    original_image = preprocess_image(img_path, False)\n",
    "    enhanced_image = preprocess_image(img_path, True)\n",
    "    \n",
    "    # making all combinations of flips\n",
    "    for horizontal_flip in [True, False]:\n",
    "        for vertical_flip in [True, False]:\n",
    "            # applying flips on original image\n",
    "            augmented_image = original_image\n",
    "            if horizontal_flip:\n",
    "                augmented_image = np.fliplr(augmented_image)\n",
    "            if vertical_flip:\n",
    "                augmented_image = np.flipud(augmented_image)\n",
    "                \n",
    "            # adding augmented image and label\n",
    "            augmented_images.append(augmented_image)\n",
    "            augmented_labels.append(train_labels[i])\n",
    "            \n",
    "            # applying flips on enhanced image\n",
    "            augmented_image = enhanced_image\n",
    "            if horizontal_flip:\n",
    "                augmented_image = np.fliplr(augmented_image)\n",
    "            if vertical_flip:\n",
    "                augmented_image = np.flipud(augmented_image)\n",
    "                \n",
    "            # adding augmented image and label\n",
    "            augmented_images.append(augmented_image)\n",
    "            augmented_labels.append(train_labels[i])\n",
    "        \n",
    "augmented_images = np.array(augmented_images)\n",
    "augmented_labels = np.array(augmented_labels)"
   ]
  },
  {
   "cell_type": "code",
   "execution_count": 7,
   "id": "1605c8c6",
   "metadata": {},
   "outputs": [],
   "source": [
    "# encoding labels\n",
    "label_encoder = LabelEncoder()\n",
    "encoded_train_labels = label_encoder.fit_transform(train_labels)\n",
    "encoded_aug_train_labels = label_encoder.fit_transform(augmented_labels)\n",
    "encoded_val_labels = label_encoder.fit_transform(val_labels)\n",
    "encoded_test_labels = label_encoder.fit_transform(test_labels)\n",
    "\n",
    "# one-hot encode labels\n",
    "one_hot_train_labels = tf.keras.utils.to_categorical(encoded_train_labels)\n",
    "one_hot_aug_train_labels = tf.keras.utils.to_categorical(encoded_aug_train_labels)\n",
    "one_hot_val_labels = tf.keras.utils.to_categorical(encoded_val_labels)\n",
    "one_hot_test_labels = tf.keras.utils.to_categorical(encoded_test_labels)"
   ]
  },
  {
   "cell_type": "markdown",
   "id": "a6e5ffaa",
   "metadata": {},
   "source": [
    "## Creating of models\n",
    "- **Conv2D** performs convolutional operations on the input image data. It applies a set of filters to the input images to extract features.\n",
    "- **MaxPooling2D** is a down-sampling operation that reduces the spatial dimensions, used after Conv2D layers to retain the most important information.\n",
    "- **Flatten** is used to convert the multi-dimensional output of the previous laters into 1D.\n",
    "- **Dense** represents a fully connected layer, where each neuron or node is connected to every neuron in the previous layer.\n",
    "\n",
    "Setting verbose = 0 ensures that nothing is printed during the training of the model."
   ]
  },
  {
   "cell_type": "markdown",
   "id": "b2f1cb64",
   "metadata": {},
   "source": [
    "## Base model\n",
    "Ensures that the data can be trained on. A batch size will be added due to the image enhancements and augmentations used.\n",
    "\n",
    "### Reducing batch size\n",
    "As there is a large set of data for the model to train on, it would provide the benefit of memory efficiency. With the introduction to image augmentation and enhancement, the large dataset would benefit from using a batch size to run.\n",
    "\n",
    "In addition, training with a batch introduces noise during each iteration which can be a form of regularisation and generalisation (seeing a diverse set of examples in each iteration) which prevent overfitting.\n",
    "\n",
    "For this project, a relatively medium batch size of 128 will be implemented. It is noted that a common batch size being used is either 32 or 64."
   ]
  },
  {
   "cell_type": "code",
   "execution_count": 15,
   "id": "1bebd1b6",
   "metadata": {},
   "outputs": [],
   "source": [
    "## EXISTING BASE MODEL\n",
    "model = Sequential()\n",
    "# creating stack of Conv2D and MaxPooling2D\n",
    "model.add(Conv2D(32, (3, 3), activation = \"relu\", input_shape = (224, 224, 1)))\n",
    "model.add(MaxPooling2D((2, 2)))\n",
    "\n",
    "# unrolling output to 1D\n",
    "model.add(Flatten())\n",
    "model.add(Dense(128, activation = \"relu\"))\n",
    "# output layer with softmax\n",
    "model.add(Dense(2, activation = \"softmax\"))"
   ]
  },
  {
   "cell_type": "code",
   "execution_count": 16,
   "id": "55974c03",
   "metadata": {},
   "outputs": [
    {
     "name": "stdout",
     "output_type": "stream",
     "text": [
      "10/10 - 1s - 74ms/step - accuracy: 0.6190 - loss: 1.3602\n",
      "val accuracy: 0.6190476417541504\n"
     ]
    },
    {
     "data": {
      "image/png": "[encoded data removed]",
      "text/plain": [
       "<Figure size 432x288 with 1 Axes>"
      ]
     },
     "metadata": {
      "needs_background": "light"
     },
     "output_type": "display_data"
    }
   ],
   "source": [
    "# compile model, improving accuracy\n",
    "model.compile(optimizer = \"adam\", loss = \"categorical_crossentropy\", metrics = [\"accuracy\"])\n",
    "# train model, validating on validation set\n",
    "history = model.fit(augmented_images, one_hot_aug_train_labels, epochs = 10, batch_size = 128,\n",
    "                         validation_data = (val_images, one_hot_val_labels), verbose = 0)\n",
    "\n",
    "# evaluating the model\n",
    "plt.figure(figsize = (6, 4))\n",
    "plt.plot(history.history[\"accuracy\"], label = \"accuracy\")\n",
    "plt.plot(history.history[\"val_accuracy\"], label = \"val_accuracy\")\n",
    "plt.xlabel(\"Epoch\")\n",
    "plt.ylabel(\"Accuracy\")\n",
    "plt.ylim([0.5, 1]) # accuracy between 0.5 to 1\n",
    "plt.legend(loc = \"lower right\")\n",
    "val_loss, val_acc = model.evaluate(val_images, one_hot_val_labels, verbose = 2)\n",
    "print(\"val accuracy:\", val_acc)"
   ]
  },
  {
   "cell_type": "code",
   "execution_count": 17,
   "id": "4e506aa1",
   "metadata": {},
   "outputs": [
    {
     "name": "stdout",
     "output_type": "stream",
     "text": [
      "10/10 - 1s - 70ms/step - accuracy: 0.6701 - loss: 0.8953\n",
      "test accuracy: 0.6700680255889893\n"
     ]
    }
   ],
   "source": [
    "# evaluating the model's performance on test set (unseen data)\n",
    "test_loss, test_acc = model.evaluate(test_images, one_hot_test_labels, verbose = 2)\n",
    "print(\"test accuracy:\", test_acc)"
   ]
  },
  {
   "cell_type": "markdown",
   "id": "13f2d8a9",
   "metadata": {},
   "source": [
    "## Improving model\n",
    "### Enabling early stopping\n",
    "To enable early stopping, ```patience``` will be added. This is to combat the issue where the model is seen to be overfitted too early. Early stopping monitors a chosen metric ```loss``` and stops training when the model has stopped improving. This minimises loss."
   ]
  },
  {
   "cell_type": "code",
   "execution_count": 18,
   "id": "293829cd",
   "metadata": {},
   "outputs": [],
   "source": [
    "## EXISTING BASE MODEL\n",
    "model = Sequential()\n",
    "# creating stack of Conv2D and MaxPooling2D\n",
    "model.add(Conv2D(32, (3, 3), activation = \"relu\", input_shape = (224, 224, 1)))\n",
    "model.add(MaxPooling2D((2, 2)))\n",
    "\n",
    "# unrolling output to 1D\n",
    "model.add(Flatten())\n",
    "model.add(Dense(128, activation = \"relu\"))\n",
    "# output layer with softmax\n",
    "model.add(Dense(2, activation = \"softmax\"))"
   ]
  },
  {
   "cell_type": "code",
   "execution_count": 19,
   "id": "b24c99fa",
   "metadata": {},
   "outputs": [
    {
     "name": "stdout",
     "output_type": "stream",
     "text": [
      "10/10 - 1s - 74ms/step - accuracy: 0.6259 - loss: 0.6989\n",
      "val accuracy: 0.6258503198623657\n"
     ]
    },
    {
     "data": {
      "image/png": "[encoded data removed]",
      "text/plain": [
       "<Figure size 432x288 with 1 Axes>"
      ]
     },
     "metadata": {
      "needs_background": "light"
     },
     "output_type": "display_data"
    }
   ],
   "source": [
    "# adding callback for early stopping\n",
    "callback = keras.callbacks.EarlyStopping(monitor = \"val_accuracy\", patience = 2)\n",
    "\n",
    "# compile model, improving accuracy\n",
    "model.compile(optimizer = \"adam\", loss = \"categorical_crossentropy\", metrics = [\"accuracy\"])\n",
    "# train model, validating on validation set\n",
    "history = model.fit(augmented_images, one_hot_aug_train_labels, epochs = 10, batch_size = 128,\n",
    "                         validation_data = (val_images, one_hot_val_labels), verbose = 0, callbacks = [callback])\n",
    "\n",
    "# evaluating the model\n",
    "plt.figure(figsize = (6, 4))\n",
    "plt.plot(history.history[\"accuracy\"], label = \"accuracy\")\n",
    "plt.plot(history.history[\"val_accuracy\"], label = \"val_accuracy\")\n",
    "plt.xlabel(\"Epoch\")\n",
    "plt.ylabel(\"Accuracy\")\n",
    "plt.ylim([0.5, 1]) # accuracy between 0.5 to 1\n",
    "plt.legend(loc = \"lower right\")\n",
    "val_loss, val_acc = model.evaluate(val_images, one_hot_val_labels, verbose = 2)\n",
    "print(\"val accuracy:\", val_acc)"
   ]
  },
  {
   "cell_type": "code",
   "execution_count": 20,
   "id": "1ad49641",
   "metadata": {},
   "outputs": [
    {
     "name": "stdout",
     "output_type": "stream",
     "text": [
      "10/10 - 1s - 68ms/step - accuracy: 0.6939 - loss: 0.5648\n",
      "test accuracy: 0.6938775777816772\n"
     ]
    }
   ],
   "source": [
    "# evaluating the model's performance on test set (unseen data)\n",
    "test_loss, test_acc = model.evaluate(test_images, one_hot_test_labels, verbose = 2)\n",
    "print(\"test accuracy:\", test_acc)"
   ]
  },
  {
   "cell_type": "markdown",
   "id": "c63c9778",
   "metadata": {},
   "source": [
    "### Reducing complexity of model\n",
    "From the previous model, it is seen that the model was overfitted by epoch 5. A dropout rate for regularisation will be used. A dropout rate of 0.2 for regularisation. After checking that it is beneficial to the training, an attempt can be made to find the best dropout rate to be used."
   ]
  },
  {
   "cell_type": "code",
   "execution_count": 24,
   "id": "f0e98be0",
   "metadata": {},
   "outputs": [],
   "source": [
    "## MODIFIED EXISTING BASE MODEL\n",
    "model = Sequential()\n",
    "# creating stack of Conv2D and MaxPooling2D\n",
    "model.add(Conv2D(32, (3, 3), activation = \"relu\", input_shape = (224, 224, 1)))\n",
    "model.add(MaxPooling2D((2, 2)))\n",
    "\n",
    "# unrolling output to 1D\n",
    "model.add(Flatten())\n",
    "model.add(Dense(128, activation = \"relu\"))\n",
    "# using dropout for regularisation (reduces overfitting)\n",
    "model.add(Dropout(0.2))\n",
    "# output layer with softmax\n",
    "model.add(Dense(2, activation = \"softmax\"))"
   ]
  },
  {
   "cell_type": "code",
   "execution_count": null,
   "id": "69d696a7",
   "metadata": {
    "scrolled": false
   },
   "outputs": [],
   "source": [
    "# compile model, improving accuracy\n",
    "model.compile(optimizer = \"adam\", loss = \"categorical_crossentropy\", metrics = [\"accuracy\"])\n",
    "# train model, validating on validation set\n",
    "history = model.fit(augmented_images, one_hot_aug_train_labels, epochs = 10, batch_size = 128,\n",
    "                    validation_data = (val_images, one_hot_val_labels), verbose = 0)\n",
    "\n",
    "# evaluating the model\n",
    "plt.figure(figsize = (6, 4))\n",
    "plt.plot(history.history[\"accuracy\"], label = \"accuracy\")\n",
    "plt.plot(history.history[\"val_accuracy\"], label = \"val_accuracy\")\n",
    "plt.xlabel(\"Epoch\")\n",
    "plt.ylabel(\"Accuracy\")\n",
    "plt.ylim([0.5, 1]) # accuracy between 0.5 to 1\n",
    "plt.legend(loc = \"lower right\")\n",
    "val_loss, val_acc = model.evaluate(val_images, one_hot_val_labels, verbose = 2)\n",
    "print(\"val accuracy:\", val_acc)"
   ]
  },
  {
   "cell_type": "code",
   "execution_count": null,
   "id": "55ef3960",
   "metadata": {},
   "outputs": [],
   "source": [
    "# evaluating the model's performance on test set (unseen data)\n",
    "test_loss, test_acc = model.evaluate(test_images, one_hot_test_labels, verbose = 2)\n",
    "print(\"test accuracy:\", test_acc)"
   ]
  },
  {
   "cell_type": "markdown",
   "id": "dfc83731",
   "metadata": {},
   "source": [
    "#### Trying different dropout rates\n",
    "As the dropout rate corresponds to how regularised the model is, the next step is to note which dropout rate provides the best model that overfits at a slower rate. The rates to be chosen will be between 0.1 and 0.9 to prevent underfitting and overfitting.\n",
    "\n",
    "**Insights**: based off the output, the dropout rate of 0.7 produced the best results with a testing accuracy of 70% with the lowest loss value."
   ]
  },
  {
   "cell_type": "code",
   "execution_count": 14,
   "id": "6389bc85",
   "metadata": {
    "scrolled": false
   },
   "outputs": [
    {
     "name": "stdout",
     "output_type": "stream",
     "text": [
      "\n",
      "Dropout rate: 0.1\n",
      "10/10 - 1s - 72ms/step - accuracy: 0.6531 - loss: 1.0346\n",
      "val accuracy: 0.6530612111091614\n",
      "10/10 - 1s - 79ms/step - accuracy: 0.6361 - loss: 0.9057\n",
      "test accuracy: 0.6360543966293335\n",
      "\n",
      "Dropout rate: 0.2\n",
      "10/10 - 1s - 78ms/step - accuracy: 0.6088 - loss: 1.1023\n",
      "val accuracy: 0.6088435649871826\n",
      "10/10 - 1s - 66ms/step - accuracy: 0.6565 - loss: 0.7626\n",
      "test accuracy: 0.6564626097679138\n",
      "\n",
      "Dropout rate: 0.3\n",
      "10/10 - 1s - 69ms/step - accuracy: 0.6259 - loss: 1.2049\n",
      "val accuracy: 0.6258503198623657\n",
      "10/10 - 1s - 69ms/step - accuracy: 0.6531 - loss: 0.9158\n",
      "test accuracy: 0.6530612111091614\n",
      "\n",
      "Dropout rate: 0.4\n",
      "10/10 - 1s - 76ms/step - accuracy: 0.6531 - loss: 0.7830\n",
      "val accuracy: 0.6530612111091614\n",
      "10/10 - 1s - 68ms/step - accuracy: 0.6701 - loss: 0.5697\n",
      "test accuracy: 0.6700680255889893\n",
      "\n",
      "Dropout rate: 0.5\n",
      "10/10 - 1s - 78ms/step - accuracy: 0.6463 - loss: 0.8354\n",
      "val accuracy: 0.646258533000946\n",
      "10/10 - 1s - 71ms/step - accuracy: 0.6871 - loss: 0.5945\n",
      "test accuracy: 0.6870748400688171\n",
      "\n",
      "Dropout rate: 0.6\n",
      "10/10 - 1s - 76ms/step - accuracy: 0.6463 - loss: 1.0549\n",
      "val accuracy: 0.646258533000946\n",
      "10/10 - 1s - 67ms/step - accuracy: 0.6837 - loss: 0.7515\n",
      "test accuracy: 0.6836734414100647\n",
      "\n",
      "Dropout rate: 0.7\n",
      "10/10 - 1s - 72ms/step - accuracy: 0.6429 - loss: 0.7196\n",
      "val accuracy: 0.6428571343421936\n",
      "10/10 - 1s - 76ms/step - accuracy: 0.7007 - loss: 0.5636\n",
      "test accuracy: 0.7006802558898926\n",
      "\n",
      "Dropout rate: 0.8\n",
      "10/10 - 1s - 96ms/step - accuracy: 0.6054 - loss: 0.6578\n",
      "val accuracy: 0.6054421663284302\n",
      "10/10 - 1s - 94ms/step - accuracy: 0.6497 - loss: 0.6083\n",
      "test accuracy: 0.6496598720550537\n",
      "\n",
      "Dropout rate: 0.9\n",
      "10/10 - 1s - 73ms/step - accuracy: 0.6020 - loss: 0.6296\n",
      "val accuracy: 0.6020408272743225\n",
      "10/10 - 1s - 71ms/step - accuracy: 0.6190 - loss: 0.6028\n",
      "test accuracy: 0.6190476417541504\n"
     ]
    },
    {
     "data": {
      "image/png": "[encoded data removed]",
      "text/plain": [
       "<Figure size 864x288 with 1 Axes>"
      ]
     },
     "metadata": {
      "needs_background": "light"
     },
     "output_type": "display_data"
    }
   ],
   "source": [
    "dropout_rates = [0.1, 0.2, 0.3, 0.4, 0.5, 0.6, 0.7, 0.8, 0.9]\n",
    "histories_list = []\n",
    "\n",
    "# looping through dropout rates\n",
    "for dropout_rate in dropout_rates:\n",
    "    # same modified base model\n",
    "    model = Sequential()\n",
    "    # creating stack of Conv2D and MaxPooling2D\n",
    "    model.add(Conv2D(32, (3, 3), activation = \"relu\", input_shape = (224, 224, 1))) # lowered filters\n",
    "    model.add(MaxPooling2D((2, 2)))\n",
    "\n",
    "    # unrolling output to 1D\n",
    "    model.add(Flatten())\n",
    "    model.add(Dense(128, activation = \"relu\"))\n",
    "    # using dropout for regularisation (reduces overfitting)\n",
    "    model.add(Dropout(dropout_rate))\n",
    "    # output layer with softmax\n",
    "    model.add(Dense(2, activation = \"softmax\"))\n",
    "    \n",
    "    # compile model, improving accuracy\n",
    "    model.compile(optimizer = \"adam\", loss = \"categorical_crossentropy\", metrics = [\"accuracy\"])\n",
    "    # train model, validating on validation set (reducing epoch size)\n",
    "    history = model.fit(augmented_images, one_hot_aug_train_labels, epochs = 10, batch_size = 128,\n",
    "                        validation_data = (val_images, one_hot_val_labels), verbose = 0)\n",
    "    \n",
    "    print(\"\\nDropout rate:\", dropout_rate)\n",
    "    val_loss, val_acc = model.evaluate(val_images, one_hot_val_labels, verbose = 2)\n",
    "    print(\"val accuracy:\", val_acc)\n",
    "    # evaluating the model's performance on test set (unseen data)\n",
    "    test_loss, test_acc = model.evaluate(test_images, one_hot_test_labels, verbose = 2)\n",
    "    print(\"test accuracy:\", test_acc)\n",
    "    histories_list.append(history)\n",
    "\n",
    "# plotting results to evaluate\n",
    "plt.figure(figsize = (12, 4))\n",
    "for i, dropout_rate in enumerate(dropout_rates):\n",
    "    plt.plot(histories_list[i].history[\"accuracy\"], label = f\"Accuracy: ( {dropout_rate} )\")\n",
    "    plt.plot(histories_list[i].history[\"val_accuracy\"], label = f\"Val. Accuracy: ( {dropout_rate} )\")\n",
    "\n",
    "plt.xlabel(\"Epoch\")\n",
    "plt.ylabel(\"Accuracy\")\n",
    "plt.ylim([0.5, 1]) # accuracy between 0.5 to 1\n",
    "plt.legend(loc = \"upper left\")\n",
    "plt.show()"
   ]
  },
  {
   "cell_type": "markdown",
   "id": "fb200811",
   "metadata": {},
   "source": [
    "### Modifying dynamics of training process\n",
    "#### Enabling early stopping\n",
    "To enable early stopping, ```patience``` will be added. This is to combat the issue where the model is seen to be overfitted too early. Early stopping monitors a chosen metric ```loss``` and stops training when the model has stopped improving. This minimises loss."
   ]
  },
  {
   "cell_type": "code",
   "execution_count": 28,
   "id": "9b74fac7",
   "metadata": {},
   "outputs": [],
   "source": [
    "## MODIFIED EXISTING BASE MODEL\n",
    "model = Sequential()\n",
    "# creating stack of Conv2D and MaxPooling2D\n",
    "model.add(Conv2D(32, (3, 3), activation = \"relu\", input_shape = (224, 224, 1)))\n",
    "model.add(MaxPooling2D((2, 2)))\n",
    "\n",
    "# unrolling output to 1D\n",
    "model.add(Flatten())\n",
    "model.add(Dense(128, activation = \"relu\"))\n",
    "# using dropout for regularisation (reduces overfitting)\n",
    "model.add(Dropout(0.6))\n",
    "# output layer with softmax\n",
    "model.add(Dense(2, activation = \"softmax\"))"
   ]
  },
  {
   "cell_type": "code",
   "execution_count": 31,
   "id": "0a11adbc",
   "metadata": {
    "scrolled": false
   },
   "outputs": [
    {
     "name": "stdout",
     "output_type": "stream",
     "text": [
      "10/10 - 1s - 67ms/step - accuracy: 0.6224 - loss: 0.6809\n",
      "val accuracy: 0.6224489808082581\n"
     ]
    },
    {
     "data": {
      "image/png": "[encoded data removed]",
      "text/plain": [
       "<Figure size 432x288 with 1 Axes>"
      ]
     },
     "metadata": {
      "needs_background": "light"
     },
     "output_type": "display_data"
    }
   ],
   "source": [
    "# adding callback for early stopping\n",
    "callback = keras.callbacks.EarlyStopping(monitor = \"val_accuracy\", patience = 2)\n",
    "\n",
    "# compile model, improving accuracy\n",
    "model.compile(optimizer = \"adam\", loss = \"categorical_crossentropy\", metrics = [\"accuracy\"])\n",
    "# train model, validating on validation set\n",
    "history = model.fit(augmented_images, one_hot_aug_train_labels, epochs = 10, batch_size = 128,\n",
    "                    validation_data = (val_images, one_hot_val_labels), verbose = 0, callbacks = [callback])\n",
    "\n",
    "# evaluating the model\n",
    "plt.figure(figsize = (6, 4))\n",
    "plt.plot(history.history[\"accuracy\"], label = \"accuracy\")\n",
    "plt.plot(history.history[\"val_accuracy\"], label = \"val_accuracy\")\n",
    "plt.xlabel(\"Epoch\")\n",
    "plt.ylabel(\"Accuracy\")\n",
    "plt.ylim([0.5, 1]) # accuracy between 0.5 to 1\n",
    "plt.legend(loc = \"lower right\")\n",
    "val_loss, val_acc = model.evaluate(val_images, one_hot_val_labels, verbose = 2)\n",
    "print(\"val accuracy:\", val_acc)"
   ]
  },
  {
   "cell_type": "code",
   "execution_count": 19,
   "id": "53dc0663",
   "metadata": {},
   "outputs": [
    {
     "name": "stdout",
     "output_type": "stream",
     "text": [
      "10/10 - 1s - 72ms/step - accuracy: 0.6905 - loss: 0.8625\n",
      "test accuracy: 0.6904761791229248\n"
     ]
    }
   ],
   "source": [
    "# evaluating the model's performance on test set (unseen data)\n",
    "test_loss, test_acc = model.evaluate(test_images, one_hot_test_labels, verbose = 2)\n",
    "print(\"test accuracy:\", test_acc)"
   ]
  },
  {
   "cell_type": "markdown",
   "id": "36fe2056",
   "metadata": {},
   "source": [
    "## Dataset Citation\n",
    "- Dataset: Awsaf (2021) CBIS-DDSM: Breast Cancer Image Dataset, Kaggle. Available at: https://www.kaggle.com/datasets/awsaf49/cbis-ddsm-breast-cancer-image-dataset\n",
    "- Licencing: Creative commons (no date) CC BY-SA 3.0 Deed | Attribution-ShareAlike 3.0 Unported | Creative Commons. Available at: https://creativecommons.org/licenses/by-sa/3.0/"
   ]
  },
  {
   "cell_type": "markdown",
   "id": "8cfa6661",
   "metadata": {},
   "source": [
    "# IGNORE BELOW\n",
    "The following were failed attempts"
   ]
  },
  {
   "cell_type": "markdown",
   "id": "84f6d17b",
   "metadata": {},
   "source": [
    "#### Increasing complexity of neural network\n",
    "To attempt to make the model perform better, the Dense layers will have a higher number of neurons, instead of adding 2 Dense layers of 128 neurons."
   ]
  },
  {
   "cell_type": "markdown",
   "id": "ad2c9383",
   "metadata": {},
   "source": [
    "### Improving with additional layers"
   ]
  },
  {
   "cell_type": "code",
   "execution_count": null,
   "id": "acb01203",
   "metadata": {},
   "outputs": [],
   "source": [
    "twoLayer_model = Sequential()\n",
    "\n",
    "# first convolutional layer\n",
    "twoLayer_model.add(Conv2D(32, (3, 3), activation = \"relu\", input_shape = (224, 224, 1)))\n",
    "twoLayer_model.add(MaxPooling2D((2, 2)))\n",
    "\n",
    "# second convolutional layer\n",
    "twoLayer_model.add(Conv2D(64, (3, 3), activation = \"relu\"))\n",
    "twoLayer_model.add(MaxPooling2D((2, 2)))\n",
    "\n",
    "# unrolling output to 1D\n",
    "twoLayer_model.add(Flatten())\n",
    "twoLayer_model.add(Dense(128, activation = \"relu\"))\n",
    "# using dropout for regularisation (reduces overfitting)\n",
    "twoLayer_model.add(Dropout(0.5))\n",
    "# output layer with softmax\n",
    "twoLayer_model.add(Dense(2, activation = \"softmax\"))"
   ]
  },
  {
   "cell_type": "code",
   "execution_count": null,
   "id": "c8581077",
   "metadata": {
    "scrolled": false
   },
   "outputs": [],
   "source": [
    "# compile model, improving accuracy\n",
    "twoLayer_model.compile(optimizer = \"Nadam\", loss = \"categorical_crossentropy\", metrics = [\"accuracy\"])\n",
    "# train model, validating on test set\n",
    "history = twoLayer_model.fit(augmented_images, one_hot_aug_train_labels, epochs = 10, validation_data = (test_images, one_hot_test_labels))"
   ]
  },
  {
   "cell_type": "code",
   "execution_count": null,
   "id": "7fae5053",
   "metadata": {},
   "outputs": [],
   "source": [
    "threeLayer_model = Sequential()\n",
    "\n",
    "# first convolutional layer\n",
    "threeLayer_model.add(Conv2D(32, (3, 3), activation = \"relu\", input_shape = (224, 224, 1)))\n",
    "threeLayer_model.add(MaxPooling2D((2, 2)))\n",
    "\n",
    "# second convolutional layer\n",
    "threeLayer_model.add(Conv2D(64, (3, 3), activation = \"relu\"))\n",
    "threeLayer_model.add(MaxPooling2D((2, 2)))\n",
    "\n",
    "# third convolutional layer\n",
    "threeLayer_model.add(Conv2D(128, (3, 3), activation = \"relu\"))\n",
    "threeLayer_model.add(MaxPooling2D((2, 2)))\n",
    "\n",
    "# unrolling output to 1D\n",
    "threeLayer_model.add(Flatten())\n",
    "threeLayer_model.add(Dense(128, activation = \"relu\"))\n",
    "# using dropout for regularisation (reduces overfitting)\n",
    "threeLayer_model.add(Dropout(0.5))\n",
    "# output layer with softmax\n",
    "threeLayer_model.add(Dense(2, activation = \"softmax\"))"
   ]
  },
  {
   "cell_type": "code",
   "execution_count": null,
   "id": "0fa3c139",
   "metadata": {
    "scrolled": false
   },
   "outputs": [],
   "source": [
    "# compile model, improving accuracy\n",
    "threeLayer_model.compile(optimizer = \"Nadam\", loss = \"categorical_crossentropy\", metrics = [\"accuracy\"])\n",
    "# train model, validating on test set\n",
    "history = threeLayer_model.fit(augmented_images, one_hot_aug_train_labels, epochs = 10, validation_data = (test_images, one_hot_test_labels))"
   ]
  },
  {
   "cell_type": "markdown",
   "id": "3c922f8a",
   "metadata": {},
   "source": [
    "### Hyperparameter tuning\n",
    "To conduct hyperparameter tuning, it is beneficial to wrap the model in a function. This makes it scikit-learn compatable as there will be methods like Grid Search and Randomised Search to help optimise the performance of the neural network.\n",
    "\n",
    "As more runs will be done, adding verbose = 2 makes the information printed a single line."
   ]
  },
  {
   "cell_type": "code",
   "execution_count": null,
   "id": "c8d604a6",
   "metadata": {},
   "outputs": [],
   "source": [
    "# defining model as a function\n",
    "def create_3Layer_model(dropout_rate = 0.5, **kwargs):\n",
    "    model = Sequential()\n",
    "\n",
    "    # first convolutional layer\n",
    "    model.add(Conv2D(32, (3, 3), activation = \"relu\", input_shape = (224, 224, 1)))\n",
    "    model.add(MaxPooling2D((2, 2)))\n",
    "\n",
    "    # second convolutional layer\n",
    "    model.add(Conv2D(64, (3, 3), activation = \"relu\"))\n",
    "    model.add(MaxPooling2D((2, 2)))\n",
    "\n",
    "    # third convolutional layer\n",
    "    model.add(Conv2D(128, (3, 3), activation = \"relu\"))\n",
    "    model.add(MaxPooling2D((2, 2)))\n",
    "\n",
    "    # unrolling output to 1D\n",
    "    model.add(Flatten())\n",
    "    model.add(Dense(128, activation = \"relu\"))\n",
    "    # using dropout for regularisation (reduces overfitting)\n",
    "    model.add(Dropout(dropout_rate))\n",
    "    # output layer with softmax\n",
    "    model.add(Dense(2, activation = \"softmax\"))\n",
    "    \n",
    "    # compile model, improving accuracy\n",
    "    model.compile(optimizer = \"Nadam\", loss = \"categorical_crossentropy\", metrics = [\"accuracy\"])\n",
    "    # train model, validating on test set\n",
    "    history = model.fit(augmented_images, one_hot_aug_train_labels, epochs = 10, validation_data = (test_images, one_hot_test_labels))\n",
    "    \n",
    "    return model, history"
   ]
  },
  {
   "cell_type": "markdown",
   "id": "3b622821",
   "metadata": {},
   "source": [
    "#### Conducting Grid Search\n",
    "[modify] involves defining a grid of hyperparameter values and training the model for each combination. It's a brute-force approach that explores a predefined set of hyperparameter values."
   ]
  },
  {
   "cell_type": "code",
   "execution_count": null,
   "id": "65f77160",
   "metadata": {
    "scrolled": false
   },
   "outputs": [],
   "source": [
    "# creating the Keras classifier\n",
    "model_for_grid = KerasClassifier(build_fn = create_3Layer_model, epochs = 10, batch_size = 32, verbose = 2)\n",
    "\n",
    "# defining hyperparameters\n",
    "parameter = {\n",
    "    'dropout_rate': [0.2, 0.3, 0.4, 0.5]\n",
    "}\n",
    "\n",
    "# performing grid search - 5 fold grid search\n",
    "grid_search = GridSearchCV(estimator = model_for_grid, param_grid = parameter)\n",
    "grid_result = grid_search.fit(augmented_images, one_hot_aug_train_labels)"
   ]
  },
  {
   "cell_type": "markdown",
   "id": "a366a199",
   "metadata": {},
   "source": [
    "#### Conducting Random Search\n",
    "[modify] randomly samples hyperparameter values from predefined ranges. It is more efficient than grid search and can be effective in high-dimensional spaces."
   ]
  },
  {
   "cell_type": "code",
   "execution_count": null,
   "id": "f4c89cc0",
   "metadata": {
    "scrolled": false
   },
   "outputs": [],
   "source": [
    "from scipy.stats import uniform\n",
    "\n",
    "# creating the Keras classifier\n",
    "model_for_rand = KerasClassifier(build_fn = create_3Layer_model, epochs = 10, batch_size = 32, verbose = 2)\n",
    "\n",
    "# defining hyperparameters\n",
    "parameter = {\n",
    "    'dropout_rate': uniform(0.2, 0.5)\n",
    "}\n",
    "\n",
    "# performing grid search - 5 fold grid search\n",
    "rand_search = RandomizedSearchCV(estimator = model_for_rand, param_distributions = parameter)\n",
    "rand_result = rand_search.fit(augmented_images, one_hot_aug_train_labels)"
   ]
  }
 ],
 "metadata": {
  "kernelspec": {
   "display_name": "Python 3 (ipykernel)",
   "language": "python",
   "name": "python3"
  },
  "language_info": {
   "codemirror_mode": {
    "name": "ipython",
    "version": 3
   },
   "file_extension": ".py",
   "mimetype": "text/x-python",
   "name": "python",
   "nbconvert_exporter": "python",
   "pygments_lexer": "ipython3",
   "version": "3.10.11"
  }
 },
 "nbformat": 4,
 "nbformat_minor": 5
}
